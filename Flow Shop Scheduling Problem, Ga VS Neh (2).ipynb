{
 "cells": [
  {
   "cell_type": "markdown",
   "metadata": {},
   "source": [
    "# _Flow Shop Scheduling Problem_\n",
    "\n",
    "__Lorenzo Famiglini__:"
   ]
  },
  {
   "cell_type": "code",
   "execution_count": 1127,
   "metadata": {},
   "outputs": [],
   "source": [
    "import pandas as pd \n",
    "import numpy as np"
   ]
  },
  {
   "cell_type": "code",
   "execution_count": 1578,
   "metadata": {},
   "outputs": [],
   "source": [
    "df = pd.read_table(\"/Users/lorenzofamiglini/Desktop/5machine_3job.txt\", delim_whitespace = True, header = None)"
   ]
  },
  {
   "cell_type": "code",
   "execution_count": 1579,
   "metadata": {},
   "outputs": [
    {
     "data": {
      "text/html": [
       "<div>\n",
       "<style scoped>\n",
       "    .dataframe tbody tr th:only-of-type {\n",
       "        vertical-align: middle;\n",
       "    }\n",
       "\n",
       "    .dataframe tbody tr th {\n",
       "        vertical-align: top;\n",
       "    }\n",
       "\n",
       "    .dataframe thead th {\n",
       "        text-align: right;\n",
       "    }\n",
       "</style>\n",
       "<table border=\"1\" class=\"dataframe\">\n",
       "  <thead>\n",
       "    <tr style=\"text-align: right;\">\n",
       "      <th></th>\n",
       "      <th>0</th>\n",
       "      <th>1</th>\n",
       "      <th>2</th>\n",
       "      <th>3</th>\n",
       "      <th>4</th>\n",
       "      <th>5</th>\n",
       "      <th>6</th>\n",
       "      <th>7</th>\n",
       "      <th>8</th>\n",
       "      <th>9</th>\n",
       "      <th>10</th>\n",
       "      <th>11</th>\n",
       "      <th>12</th>\n",
       "      <th>13</th>\n",
       "      <th>14</th>\n",
       "      <th>15</th>\n",
       "      <th>16</th>\n",
       "      <th>17</th>\n",
       "      <th>18</th>\n",
       "      <th>19</th>\n",
       "    </tr>\n",
       "  </thead>\n",
       "  <tbody>\n",
       "    <tr>\n",
       "      <th>0</th>\n",
       "      <td>54</td>\n",
       "      <td>83</td>\n",
       "      <td>15</td>\n",
       "      <td>71</td>\n",
       "      <td>77</td>\n",
       "      <td>36</td>\n",
       "      <td>53</td>\n",
       "      <td>38</td>\n",
       "      <td>27</td>\n",
       "      <td>87</td>\n",
       "      <td>76</td>\n",
       "      <td>91</td>\n",
       "      <td>14</td>\n",
       "      <td>29</td>\n",
       "      <td>12</td>\n",
       "      <td>77</td>\n",
       "      <td>32</td>\n",
       "      <td>87</td>\n",
       "      <td>68</td>\n",
       "      <td>94</td>\n",
       "    </tr>\n",
       "    <tr>\n",
       "      <th>1</th>\n",
       "      <td>79</td>\n",
       "      <td>3</td>\n",
       "      <td>11</td>\n",
       "      <td>99</td>\n",
       "      <td>56</td>\n",
       "      <td>70</td>\n",
       "      <td>99</td>\n",
       "      <td>60</td>\n",
       "      <td>5</td>\n",
       "      <td>56</td>\n",
       "      <td>3</td>\n",
       "      <td>61</td>\n",
       "      <td>73</td>\n",
       "      <td>75</td>\n",
       "      <td>47</td>\n",
       "      <td>14</td>\n",
       "      <td>21</td>\n",
       "      <td>86</td>\n",
       "      <td>5</td>\n",
       "      <td>77</td>\n",
       "    </tr>\n",
       "    <tr>\n",
       "      <th>2</th>\n",
       "      <td>16</td>\n",
       "      <td>89</td>\n",
       "      <td>49</td>\n",
       "      <td>15</td>\n",
       "      <td>89</td>\n",
       "      <td>45</td>\n",
       "      <td>60</td>\n",
       "      <td>23</td>\n",
       "      <td>57</td>\n",
       "      <td>64</td>\n",
       "      <td>7</td>\n",
       "      <td>1</td>\n",
       "      <td>63</td>\n",
       "      <td>41</td>\n",
       "      <td>63</td>\n",
       "      <td>47</td>\n",
       "      <td>26</td>\n",
       "      <td>75</td>\n",
       "      <td>77</td>\n",
       "      <td>40</td>\n",
       "    </tr>\n",
       "    <tr>\n",
       "      <th>3</th>\n",
       "      <td>66</td>\n",
       "      <td>58</td>\n",
       "      <td>31</td>\n",
       "      <td>68</td>\n",
       "      <td>78</td>\n",
       "      <td>91</td>\n",
       "      <td>13</td>\n",
       "      <td>59</td>\n",
       "      <td>49</td>\n",
       "      <td>85</td>\n",
       "      <td>85</td>\n",
       "      <td>9</td>\n",
       "      <td>39</td>\n",
       "      <td>41</td>\n",
       "      <td>56</td>\n",
       "      <td>40</td>\n",
       "      <td>54</td>\n",
       "      <td>77</td>\n",
       "      <td>51</td>\n",
       "      <td>31</td>\n",
       "    </tr>\n",
       "    <tr>\n",
       "      <th>4</th>\n",
       "      <td>58</td>\n",
       "      <td>56</td>\n",
       "      <td>20</td>\n",
       "      <td>85</td>\n",
       "      <td>53</td>\n",
       "      <td>35</td>\n",
       "      <td>53</td>\n",
       "      <td>41</td>\n",
       "      <td>69</td>\n",
       "      <td>13</td>\n",
       "      <td>86</td>\n",
       "      <td>72</td>\n",
       "      <td>8</td>\n",
       "      <td>49</td>\n",
       "      <td>47</td>\n",
       "      <td>87</td>\n",
       "      <td>58</td>\n",
       "      <td>18</td>\n",
       "      <td>68</td>\n",
       "      <td>28</td>\n",
       "    </tr>\n",
       "  </tbody>\n",
       "</table>\n",
       "</div>"
      ],
      "text/plain": [
       "   0   1   2   3   4   5   6   7   8   9   10  11  12  13  14  15  16  17  18  \\\n",
       "0  54  83  15  71  77  36  53  38  27  87  76  91  14  29  12  77  32  87  68   \n",
       "1  79   3  11  99  56  70  99  60   5  56   3  61  73  75  47  14  21  86   5   \n",
       "2  16  89  49  15  89  45  60  23  57  64   7   1  63  41  63  47  26  75  77   \n",
       "3  66  58  31  68  78  91  13  59  49  85  85   9  39  41  56  40  54  77  51   \n",
       "4  58  56  20  85  53  35  53  41  69  13  86  72   8  49  47  87  58  18  68   \n",
       "\n",
       "   19  \n",
       "0  94  \n",
       "1  77  \n",
       "2  40  \n",
       "3  31  \n",
       "4  28  "
      ]
     },
     "execution_count": 1579,
     "metadata": {},
     "output_type": "execute_result"
    }
   ],
   "source": [
    "df"
   ]
  },
  {
   "cell_type": "markdown",
   "metadata": {},
   "source": [
    "# _Makespan function:_"
   ]
  },
  {
   "cell_type": "code",
   "execution_count": 1554,
   "metadata": {},
   "outputs": [],
   "source": [
    "def makespan2(df, column_range, sequence): #column_range, sequence\n",
    "    df = df[sequence].T.reset_index(drop = True).T\n",
    "    o = df.shape[1] #numero di operazioni\n",
    "    m = df.shape[0] #numero di macchine\n",
    "    mat = [[df[i][j] for i in column_range] for j in range(m)] #inizializzo la matrice \n",
    "    app = [[0 for j in range(o)]for i in range(m)] #in range del numero delle operazioni\n",
    "    app[0][0] = df[0][0] #aggiungo il primo elemento prima riga prima colonna\n",
    "    for i in range(0,m): #da 0 a n-macchine\n",
    "        for j in range(0,o): #da 0 a n-jobs\n",
    "            if  (app[i][j-1] >= app[i-1][j]): \n",
    "                app[i][j] = app[i][j-1] + mat[i][j]\n",
    "            else:\n",
    "                app[i][j] = app[i-1][j] + mat[i][j]\n",
    "                \n",
    "       # print(make)\n",
    "    return(app[-1][-1]) #ultimo elemento dell'ultimo array"
   ]
  },
  {
   "cell_type": "code",
   "execution_count": 1580,
   "metadata": {},
   "outputs": [
    {
     "data": {
      "text/plain": [
       "1356"
      ]
     },
     "execution_count": 1580,
     "metadata": {},
     "output_type": "execute_result"
    }
   ],
   "source": [
    "makespan2(df, column_range = range(0,20), sequence = [18, 7, 14, 5, 16, 10, 15, 12, 2, 8, 17, 4, 0, 13, 11, 1, 3, 9, 6, 19])"
   ]
  },
  {
   "cell_type": "markdown",
   "metadata": {},
   "source": [
    "# Random Sequence Function"
   ]
  },
  {
   "cell_type": "code",
   "execution_count": 1556,
   "metadata": {},
   "outputs": [],
   "source": [
    "def random_sequence_function(num_etichette, intervallo):\n",
    "    import itertools\n",
    "    global mylist_n\n",
    "    seq = []\n",
    "    for i in range(num_etichette):\n",
    "        j = np.random.permutation(intervallo)\n",
    "        for j in seq:\n",
    "            j = np.random.permutation(intervallo)\n",
    "        seq.append(j.tolist())\n",
    "    #mylist_n = [j for i in seq for j in i] #rimuove la doppia lista\n",
    "    return(seq)"
   ]
  },
  {
   "cell_type": "markdown",
   "metadata": {},
   "source": [
    "# Score Function\n",
    "Usiamo questa formula per calcolari la probabilità: k è il valore k-esimo di makespan, M è la mediana. Ho provato un metodo in cui si calcola il valore mediano ha una possibilità di $\\frac{1}{M}$ di essere selezionato, mentre il $M^{th}$ (il più adatto) ha una possibilità di $\\frac{2}{M+1}$, circa il doppio di quello della mediana: \n",
    "$ p(k) = \\frac{2k}{M(M+1)} $. Ma alla fine $p(k) = \\frac{f_i}{\\sum_{j=1}^n{f_j}}$ risulta essere quella più accurata.\n",
    "Questi valori ci servono per estrapolare le sequenze con uno score più alto, per poi essere immesse all'interno del crossover."
   ]
  },
  {
   "cell_type": "code",
   "execution_count": 1557,
   "metadata": {},
   "outputs": [],
   "source": [
    "def prob(diz): \n",
    "    dframe = pd.DataFrame(diz).T\n",
    "    dframe[\"sum\"] = dframe[\"makespan\"].sum()\n",
    "    #dframe[\"prob\"] = (2*dframe[\"makespan\"]/(dframe[\"median\"]*(dframe[\"median\"]+1)))*100\n",
    "    #dframe[\"p(k)\"] = (1 - dframe[\"prob\"])\n",
    "    dframe[\"fit\"] = dframe[\"makespan\"]/dframe[\"sum\"]   #dframe[\"p(k)\"] / dframe[\"p(k)\"].sum()\n",
    "    c = np.random.choice(dframe[\"sol\"], len(dframe),p=dframe[\"fit\"].tolist(), replace = True).tolist() #popolazione intermedia\n",
    "    return c"
   ]
  },
  {
   "cell_type": "markdown",
   "metadata": {},
   "source": [
    "# Shuffle function per il Crossover"
   ]
  },
  {
   "cell_type": "code",
   "execution_count": 1558,
   "metadata": {},
   "outputs": [],
   "source": [
    "def fun_order(l):\n",
    "    l = list(range(0, len(l)))\n",
    "    ind = 1\n",
    "    for i in (range(int(len(l)/2))):\n",
    "        old = ind\n",
    "        l[ind] = l[ind-1]\n",
    "        l[ind-1] = old\n",
    "        ind= ind + 2\n",
    "    return(l)"
   ]
  },
  {
   "cell_type": "markdown",
   "metadata": {},
   "source": [
    "# Crossover Phase"
   ]
  },
  {
   "cell_type": "code",
   "execution_count": 1559,
   "metadata": {},
   "outputs": [],
   "source": [
    "def crossover(prova, crs):\n",
    "    x = []\n",
    "    diz = {}\n",
    "    for i in prova: \n",
    "        s = i[:crs] #prendi i primi due elementi\n",
    "        x.append(s)\n",
    "    myorder = fun_order(x)\n",
    "    x = [x[i] for i in myorder]\n",
    "    for i in range(len(x)): \n",
    "        diz[\"sol {0}\".format(i)] = x[i]\n",
    "        for j in range(len(prova[0])):\n",
    "            if prova[i][j] not in diz[\"sol {0}\".format(i)]:\n",
    "                diz[\"sol {0}\".format(i)].append(prova[i][j])\n",
    "    return(diz)\n",
    "# la probabilità di crossover è sempre uno, possiamo decidere quanti elementi devono essere presi in considerazione."
   ]
  },
  {
   "cell_type": "markdown",
   "metadata": {},
   "source": [
    "# Selection + Crossover Phase"
   ]
  },
  {
   "cell_type": "code",
   "execution_count": 1560,
   "metadata": {},
   "outputs": [],
   "source": [
    "def selection_crossover(df, num_etichette, intervallo, column_range, c, crs): \n",
    "    lista = []\n",
    "    diz = {}\n",
    "    l = []\n",
    "    lista.append(c)\n",
    "    conta = 0\n",
    "    mylist_p = [j for i in lista for j in i]\n",
    "    for i in mylist_p:\n",
    "        d = {}\n",
    "        d[\"sol\"] = i\n",
    "        d[\"makespan\"] = makespan2(df,column_range, sequence = i) #funzione del makespan\n",
    "        #case = {'sol': i, 'makespan': makespan2(df,column_range, sequence = i)}\n",
    "        diz[\"sol{0}\".format(conta)] = d\n",
    "        conta = conta+1\n",
    "    q = prob(diz) #funzione probability\n",
    "    c = crossover(q, crs) #funzione del cross over\n",
    "    return c"
   ]
  },
  {
   "cell_type": "markdown",
   "metadata": {},
   "source": [
    "# Mutate Phase"
   ]
  },
  {
   "cell_type": "code",
   "execution_count": 1561,
   "metadata": {},
   "outputs": [],
   "source": [
    "def mutate(diz, change_probability):\n",
    "    lista = []\n",
    "    import random\n",
    "    for key, value in diz.items():\n",
    "        lista.append(value)\n",
    "    for i in range(len(lista)):\n",
    "        if(random.random() < change_probability):\n",
    "            scambia = int(random.random() * len(lista))\n",
    "            p1 = lista[i]\n",
    "            p2 = lista[scambia]\n",
    "            lista[i] = p2\n",
    "            lista[scambia] = p1\n",
    "    return (lista)"
   ]
  },
  {
   "cell_type": "markdown",
   "metadata": {},
   "source": [
    "Change probability è la probilità che i nuovi geni subiscono una mutazione. Dalla letteratura si consiglia un valore compreso tra  [0.001, 0.01]."
   ]
  },
  {
   "cell_type": "code",
   "execution_count": 1562,
   "metadata": {},
   "outputs": [],
   "source": [
    "mut = mutate(a, 0.01)"
   ]
  },
  {
   "cell_type": "markdown",
   "metadata": {},
   "source": [
    "# Genetic Algorithm"
   ]
  },
  {
   "cell_type": "code",
   "execution_count": 1563,
   "metadata": {},
   "outputs": [],
   "source": [
    "def GeneticAlgorithm(df,num_etichette, intervallo, column_range, chance_prob, n_iter, crs):\n",
    "    c = random_sequence_function(num_etichette, intervallo)\n",
    "    diz = {}\n",
    "    conta = 0\n",
    "    app = {}\n",
    "    conta2 = 0\n",
    "    minimo = 10000000\n",
    "    it = 0 \n",
    "    conta3 = 0\n",
    "    lista = []\n",
    "    for i in range(0,n_iter):\n",
    "        ass = selection_crossover(df, num_etichette, intervallo, column_range, c=c, crs = crs)\n",
    "        ass = mutate(ass, chance_prob)\n",
    "        for j in ass:\n",
    "            app2 = {}\n",
    "            app2[\"sol\"] = j\n",
    "            app2[\"makespan\"] = makespan2(df, column_range,j)\n",
    "            a = app[\"sol{0}\".format(conta2)] = app2\n",
    "            conta2 = conta2 + 1\n",
    "            if a[\"makespan\"] < minimo: #potremmo perdere il miglior valore quindi applichiamo l'iterismo\n",
    "                minimo = a[\"makespan\"]\n",
    "                sec = a[\"sol\"]\n",
    "                diz3[\"makespan\"] = minimo\n",
    "                diz3[\"solution\"] = sec\n",
    "                diz3[\"iterazione\"] = conta3\n",
    "                conta3 = conta3 + 1\n",
    "    for i in ass: \n",
    "        d = {}\n",
    "        d[\"sol\"] = i\n",
    "        d[\"makespan\"] = makespan2(df, column_range, i)\n",
    "        d[\"iterazione\"] = it\n",
    "        diz[\"sol{0}\".format(conta)] = d\n",
    "        conta = conta + 1\n",
    "        it = it + 1\n",
    "    diz = pd.DataFrame(diz).T\n",
    "    diz = diz.sort_values(by=['makespan']).head(10)\n",
    "    return diz, diz3"
   ]
  },
  {
   "cell_type": "code",
   "execution_count": 1564,
   "metadata": {
    "scrolled": true
   },
   "outputs": [
    {
     "data": {
      "image/png": "[encoded data removed]",
      "text/plain": [
       "<IPython.core.display.Image object>"
      ]
     },
     "execution_count": 1564,
     "metadata": {},
     "output_type": "execute_result"
    }
   ],
   "source": [
    "from IPython.display import Image\n",
    "img = '/Users/lorenzofamiglini/Desktop/img.png'\n",
    "Image(filename=img)"
   ]
  },
  {
   "cell_type": "markdown",
   "metadata": {},
   "source": [
    "Riprendendo l'esempio dell'assignment, il mio algoritmo con 100 iterazioni riesce a raggiungere lo stesso risultato ottimale 451, anzi abbiamo diverse combinazioni per poterlo raggiungere:\n",
    "    [2,3,4,0,1], [2,4,3,1,0], [2,3,4,1,0], [2,3,4,0,1]."
   ]
  },
  {
   "cell_type": "code",
   "execution_count": 1565,
   "metadata": {
    "scrolled": true
   },
   "outputs": [
    {
     "data": {
      "text/plain": [
       "(      iterazione makespan                                                sol\n",
       " sol16         16     1437  [3, 12, 1, 7, 14, 16, 11, 19, 2, 9, 15, 0, 5, ...\n",
       " sol0           0     1439  [12, 0, 17, 11, 8, 10, 9, 18, 13, 14, 15, 5, 2...\n",
       " sol6           6     1444  [14, 6, 18, 16, 2, 19, 0, 8, 5, 12, 13, 9, 1, ...\n",
       " sol12         12     1459  [12, 10, 11, 4, 1, 14, 16, 7, 19, 2, 9, 15, 0,...\n",
       " sol3           3     1480  [19, 7, 0, 15, 2, 10, 8, 4, 9, 18, 14, 17, 1, ...\n",
       " sol15         15     1485  [12, 0, 17, 11, 8, 10, 2, 4, 9, 18, 14, 1, 7, ...\n",
       " sol18         18     1485  [2, 7, 1, 0, 17, 10, 8, 4, 9, 18, 14, 5, 6, 19...\n",
       " sol4           4     1491  [14, 16, 7, 11, 19, 3, 12, 1, 6, 2, 10, 5, 18,...\n",
       " sol10         10     1497  [19, 7, 0, 15, 2, 4, 10, 12, 1, 14, 11, 13, 6,...\n",
       " sol5           5     1498  [16, 15, 5, 14, 6, 12, 10, 11, 4, 1, 17, 18, 1...,\n",
       " {'makespan': 1355,\n",
       "  'solution': [16,\n",
       "   15,\n",
       "   5,\n",
       "   14,\n",
       "   6,\n",
       "   10,\n",
       "   4,\n",
       "   7,\n",
       "   0,\n",
       "   17,\n",
       "   3,\n",
       "   2,\n",
       "   8,\n",
       "   11,\n",
       "   1,\n",
       "   12,\n",
       "   13,\n",
       "   9,\n",
       "   18,\n",
       "   19],\n",
       "  'iterazione': 3})"
      ]
     },
     "execution_count": 1565,
     "metadata": {},
     "output_type": "execute_result"
    }
   ],
   "source": [
    "GeneticAlgorithm(df,num_etichette = 20, intervallo = 20, column_range = range(0,20) , chance_prob = 0.1, n_iter =200, crs = 5)"
   ]
  },
  {
   "cell_type": "markdown",
   "metadata": {},
   "source": [
    "# Neh Algorithm: "
   ]
  },
  {
   "cell_type": "markdown",
   "metadata": {},
   "source": [
    "Dobbiamo generalizzare ancora di più il makespan: "
   ]
  },
  {
   "cell_type": "code",
   "execution_count": 1566,
   "metadata": {},
   "outputs": [],
   "source": [
    "def makespan(df, sequence): #column_range, sequence\n",
    "    df = df[sequence].T.reset_index(drop = True).T\n",
    "    o = df.shape[1] #numero di operazioni\n",
    "    m = df.shape[0] #numero di macchine\n",
    "    mat = [[df[i][j] for i in range(len(sequence))] for j in range(m)] #inizializzo la matrice \n",
    "    app = [[0 for j in range(len(sequence))]for i in range(m)] #in range del numero delle operazioni\n",
    "    app[0][0] = df[0][0] #aggiungo il primo elemento prima riga prima colonna\n",
    "    for i in range(0,m): #da 0 a n-macchine\n",
    "        for j in range(0,len(sequence)): #da 0 a n-jobs\n",
    "            if  (app[i][j-1] >= app[i-1][j]): \n",
    "                app[i][j] = app[i][j-1] + mat[i][j]\n",
    "            else:\n",
    "                app[i][j] = app[i-1][j] + mat[i][j]\n",
    "                \n",
    "       # print(make)\n",
    "    return(app[-1][-1]) #ultimo elemento dell'ultimo array"
   ]
  },
  {
   "cell_type": "markdown",
   "metadata": {},
   "source": [
    "# Improved Heuristic: \n",
    "L'euristica migliorata proposta per il FSSP produce risultati migliori rispetto all'algoritmo originale NEH mantenendo la stessa complessità algoritmica. L'euristica implementata genera un numero maggiore di sequenze minime di makespan rispetto all'algoritmo NEH classico e quindi abbiamo più opzioni di sequenze di lavoro che possono essere implementate per una maggiore produzione."
   ]
  },
  {
   "cell_type": "markdown",
   "metadata": {},
   "source": [
    "# Init_perm function()\n",
    "E' una funzione che ci calcola 4! possibili permutazioni per i primi 4 jobs. Da queste combinazioni si selezionanto le migliori n soluzioni (0 < n < 25) (makespane in ordine crescente, quindi avremmo le varie combinazioni che minimizzano tale funzione)."
   ]
  },
  {
   "cell_type": "code",
   "execution_count": 1567,
   "metadata": {},
   "outputs": [],
   "source": [
    "def init_perm (df,int_perm):\n",
    "    from itertools import permutations \n",
    "    l = list(permutations(int_perm))\n",
    "    l = np.array(l).tolist()\n",
    "    app = {}\n",
    "    conta = 0\n",
    "    for i in l:\n",
    "        app2 = {}\n",
    "        app2[\"sol\"] = i\n",
    "        app2[\"makespan\"] = makespan(df,i)\n",
    "        app[\"sol{0}\".format(conta)] = app2\n",
    "        conta = conta + 1\n",
    "    sor = dict(sorted(app.items(), key=lambda item: item[1]['makespan'])[:6])\n",
    "    lista = []\n",
    "    for key, value in sor.items():\n",
    "        lista.append(value[\"sol\"])\n",
    "    return lista"
   ]
  },
  {
   "cell_type": "markdown",
   "metadata": {},
   "source": [
    "# In_list function:\n",
    "All'interno della funzione in_list aggiungiamo job + 1 e ricalcoliamo il tutto prendendo sempre i migliori. "
   ]
  },
  {
   "cell_type": "code",
   "execution_count": 1568,
   "metadata": {},
   "outputs": [],
   "source": [
    "def in_list(lista, conta): \n",
    "    best_l = []\n",
    "    best_fit = 5000000\n",
    "    for i in range(len(lista) + 1):\n",
    "        lista2 = lista.copy()\n",
    "        lista2.insert(i, conta) \n",
    "        app2 = {}\n",
    "        app2[\"sol\"] = lista2\n",
    "        app2[\"fit\"] = makespan(df, lista2)\n",
    "        if app2[\"fit\"] < best_fit:\n",
    "            lista3 = []\n",
    "            best_fit = app2[\"fit\"]\n",
    "            lista3.append(app2[\"sol\"])\n",
    "        mylist_n = [j for i in lista3 for j in i] #rimuove la doppia lista\n",
    "    return mylist_n"
   ]
  },
  {
   "cell_type": "markdown",
   "metadata": {},
   "source": [
    "# Cycle:\n",
    "Con tale funzione iteriamo aggiungendo ad ogni iterazioni un job in più, fino ad arrivare alla soluzione \"ottimale\"."
   ]
  },
  {
   "cell_type": "code",
   "execution_count": 1569,
   "metadata": {},
   "outputs": [],
   "source": [
    "def cycle(lista, conta):\n",
    "    c = []\n",
    "    for i in lista:\n",
    "        c.append(in_list(i, conta))\n",
    "    return c"
   ]
  },
  {
   "cell_type": "markdown",
   "metadata": {},
   "source": [
    "# Neh algorithm funzione finale: "
   ]
  },
  {
   "cell_type": "code",
   "execution_count": 1570,
   "metadata": {},
   "outputs": [],
   "source": [
    "def neh_algorithm(df, li, conta): \n",
    "    for i in range(len(df.columns) -4):\n",
    "        li = cycle(li,conta)\n",
    "        conta = conta + 1\n",
    "    up = 0\n",
    "    app = {}\n",
    "    for j in li: \n",
    "        app2 = {}\n",
    "        app2[\"sol\"] = j\n",
    "        app2[\"fit\"] = makespan(df, j)\n",
    "        app[\"sol{0}\".format(up)] = app2\n",
    "        up = up + 1 \n",
    "    app = pd.DataFrame(app).reset_index().T\n",
    "    return app "
   ]
  },
  {
   "cell_type": "code",
   "execution_count": 1571,
   "metadata": {},
   "outputs": [],
   "source": [
    "li = init_perm(df, range(0,4))"
   ]
  },
  {
   "cell_type": "code",
   "execution_count": 1574,
   "metadata": {},
   "outputs": [],
   "source": [
    "neh = neh_algorithm(df, li, conta = 4)"
   ]
  },
  {
   "cell_type": "markdown",
   "metadata": {},
   "source": [
    "# Implementazione Neh + Ga\n",
    "\n",
    "• Anzichè far partire il GA da una popolazione casuale, viene inizializzato con il risultato del NEH."
   ]
  },
  {
   "cell_type": "code",
   "execution_count": 1538,
   "metadata": {},
   "outputs": [],
   "source": [
    "def neh_algorithm2(df, li, conta): \n",
    "    lista12 = []\n",
    "    for i in range(len(df.columns) -4):\n",
    "        li = cycle(li,conta)\n",
    "        conta = conta + 1\n",
    "    up = 0\n",
    "    app = {}\n",
    "    for j in li: \n",
    "        app2 = {}\n",
    "        app2[\"sol\"] = j\n",
    "        app2[\"fit\"] = makespan(df, j)\n",
    "        app[\"sol{0}\".format(up)] = app2\n",
    "        up = up + 1 \n",
    "    neh = pd.DataFrame(app).reset_index().T\n",
    "    neh = neh[(neh[0] != 0) & (neh[1] != 9) & (neh[0] != \"fit\") & (neh[1] != \"sol\")][1]\n",
    "    for i in neh:\n",
    "        lista12.append(i)\n",
    "    return  lista12"
   ]
  },
  {
   "cell_type": "code",
   "execution_count": 1539,
   "metadata": {},
   "outputs": [],
   "source": [
    "def selection_crossover2(df, intervallo, column_range, crs, mylist_p): \n",
    "    diz = {}\n",
    "    l = []    \n",
    "    conta = 0\n",
    "    for i in mylist_p:\n",
    "        d = {}\n",
    "        d[\"sol\"] = i\n",
    "        d[\"makespan\"] = makespan2(df,column_range, sequence = i) #funzione del makespan\n",
    "        diz[\"sol{0}\".format(conta)] = d\n",
    "        conta = conta+1\n",
    "    q = prob(diz) #funzione probability\n",
    "    c = crossover(q, crs) #funzione del cross over\n",
    "    return c"
   ]
  },
  {
   "cell_type": "code",
   "execution_count": 1572,
   "metadata": {},
   "outputs": [],
   "source": [
    "def NehGA(df, intervallo, column_range , chance_prob, n_iter, crs, conta):\n",
    "    li = init_perm(df, range(0,4))\n",
    "    mylist_p = neh_algorithm2(df, li, conta)\n",
    "    diz = {}\n",
    "    conta = 0\n",
    "    app = {}\n",
    "    conta2 = 0\n",
    "    minimo = 10000000\n",
    "    it = 0 \n",
    "    conta3 = 0\n",
    "    lista = []\n",
    "    best = []\n",
    "    for i in range(0,n_iter):\n",
    "        ass = selection_crossover2(df, intervallo, column_range, mylist_p = mylist_p, crs = crs)\n",
    "        ass = mutate(ass, chance_prob)\n",
    "        for j in ass:\n",
    "            app2 = {}\n",
    "            app2[\"sol\"] = j\n",
    "            app2[\"makespan\"] = makespan2(df, column_range,j)\n",
    "            a = app[\"sol{0}\".format(conta2)] = app2\n",
    "            conta2 = conta2 + 1\n",
    "            if a[\"makespan\"] < minimo: #during the iterations we may lose the best value, so we can save it here. \n",
    "                minimo = a[\"makespan\"]\n",
    "                sec = a[\"sol\"]\n",
    "                diz3[\"makespan\"] = minimo\n",
    "                diz3[\"solution\"] = sec\n",
    "                diz3[\"iterazione\"] = conta3\n",
    "                conta3 = conta3 + 1\n",
    "    for i in ass: \n",
    "        d = {}\n",
    "        d[\"sol\"] = i\n",
    "        d[\"makespan\"] = makespan2(df, column_range, i)\n",
    "        d[\"iterazione\"] = it\n",
    "        diz[\"sol{0}\".format(conta)] = d\n",
    "        conta = conta + 1\n",
    "        it = it + 1\n",
    "    diz = pd.DataFrame(diz).T\n",
    "    diz = diz.sort_values(by=['makespan']).head(10)\n",
    "    return diz, diz3, best\n"
   ]
  },
  {
   "cell_type": "code",
   "execution_count": 1573,
   "metadata": {},
   "outputs": [
    {
     "data": {
      "text/plain": [
       "(     iterazione makespan                                                sol\n",
       " sol1          1     1297  [16, 14, 13, 15, 10, 8, 12, 5, 17, 3, 1, 0, 2,...\n",
       " sol3          3     1297  [16, 8, 14, 15, 5, 10, 13, 7, 2, 3, 1, 0, 4, 1...\n",
       " sol4          4     1297  [16, 14, 13, 15, 10, 8, 5, 17, 0, 3, 1, 7, 4, ...\n",
       " sol5          5     1297  [16, 14, 13, 15, 10, 8, 5, 17, 0, 3, 1, 7, 4, ...\n",
       " sol0          0     1321  [10, 8, 14, 16, 12, 13, 15, 5, 17, 0, 3, 1, 7,...\n",
       " sol2          2     1355  [16, 10, 8, 14, 15, 5, 18, 0, 2, 17, 3, 1, 7, ...,\n",
       " {'makespan': 1297,\n",
       "  'solution': [16,\n",
       "   10,\n",
       "   8,\n",
       "   14,\n",
       "   15,\n",
       "   5,\n",
       "   13,\n",
       "   7,\n",
       "   2,\n",
       "   3,\n",
       "   1,\n",
       "   0,\n",
       "   4,\n",
       "   17,\n",
       "   9,\n",
       "   6,\n",
       "   11,\n",
       "   18,\n",
       "   12,\n",
       "   19],\n",
       "  'iterazione': 0},\n",
       " [])"
      ]
     },
     "execution_count": 1573,
     "metadata": {},
     "output_type": "execute_result"
    }
   ],
   "source": [
    "NehGA(df, intervallo = 20, column_range = range(0,20) , chance_prob = 0.1  , n_iter = 200, crs = 5, conta = 4)"
   ]
  },
  {
   "cell_type": "markdown",
   "metadata": {},
   "source": [
    "# _Vediamo i risultati dei vari algoritmi implementati:_\n",
    "NB: i test sono stati mandati più di una volta proprio per verificare la validità del risultato. \n",
    "    \n",
    "# Lavorando su una matrice: 20 x 50 (20 macchine e 50 jobs)\n",
    "- GA: la migliore soluzione che raggiunge è pari a: 4516 (con 100 iterazioni e prob. di mutazione: 0.01 e crossover 1/10)\n",
    "- Neh: la migliore soluzione è pari a: 4053 \n",
    "- Ga + Neh: anzichè partire da una popolazione casuale, partiamo dalle migliori 20 soluzioni del Neh per poi applicare direttamente tali soluzioni con una probabilità di mutazione pari a 0.09 con 100 iterazioni e crossover sempre pari a 1/17 della lunghezza dei jobs: i risultati sono molto soddisfacienti: il makespan raggiunge __4038__ con una sequenza pari a: [34,19,14,30,5,6,23,44,9,41,37,42,45,32,38,4,27,33,28,10,26,0,36,39,21,16,13,29,3,20,17,7,15,46,31,1,22,35,18,25,43,12,49,48,40,11,8,47,24,2].\n",
    "\n",
    "__Quindi in questo caso possiamo concludere che l'implementazione GA + Neh risulta essere la più efficiente, ovviamente ci avviciniamo di più all'upper bound della soluzione ottimale che è pari a 3875__\n",
    "\n",
    "# Lavorando su una matrice: 5 x 20 (5 macchine e 20 jobs): \n",
    "- GA: makespan = 1346 (100 iterazioni, prob. di mutazione: 0.01, crossover pari a 1/10)\n",
    "- Neh: makespan = 1297\n",
    "- GA + Neh: makespan = __1297__, uguale al Neh ma otteniamo 10 combinazioni possibili per ottenere tale risultato (100 iterazioni, prob. di mutazione: 0.01, crossover pari a 1/10) \n",
    "\n",
    "__L'upper bound della soluzione ottimale in questo caso è  1278__\n",
    "\n",
    "# Lavorando su una matrice: 10 x 100 (10 macchine e 100 jobs): \n",
    "- GA: makespan = 6497 (500 iterazioni, prob. di mutazione: 0.01, crossover pari a 1/10)\n",
    "- Neh: makespan = 5865\n",
    "- GA + Neh: makespan = __5865__, uguale al Neh ma con un'altra combinazione, le ultime etichette mutate variano tra 5905 e 5958 mentre nel GA variano tra 6603 - 6906. Quindi anche qui possiamo dire che è notevolemente migliorato (100 iterazioni, prob. di mutazione: 0.01, crossover pari a 1/10). \n",
    "\n",
    "__L'upper bound della soluzione ottimale è pari a: 5770__\n",
    "\n",
    "# Lavorando su una matrice: 20 x 20 (20 macchine e 20 jobs): \n",
    "- GA: makespan = 2556 (100 iterazioni, prob. di mutazione: 0.01, crossover pari a 1/10)\n",
    "- Neh: makespan = 2362\n",
    "- GA + Neh: makespan = __2350__, è il risultato migliore tra tutti i vari algoritimi(100 iterazioni, prob. di mutazione: 0.01, crossover pari a 1/10), con una sequenza di lavoro pari a: [15,7,6,12,8,13,0,19,4,11,17,14,9,2,16,10,1,5,3,18]. Ancora una volta l'implementazione tra i due migliora la soluzione. \n",
    "\n",
    "__L'upper bound della soluzione ottimale è pari a: 2297__\n",
    "\n",
    "# Lavorando su una matrice: 10 x 20 (10 macchine e 20 jobs): \n",
    "- GA: makespan = 1926 (100 iterazioni, prob. di mutazione: 0.01, crossover pari a 1/10)\n",
    "- Neh: makespan = 1720\n",
    "- Ga + Neh: si nota un leggero miglioramento, con un makespan: __1717__, e una sequenza: [16,11,18,14,4,10,19,6,3,9,8,12,1,15,0,5,7,13,2,17]. \n",
    "\n",
    "Il crossover in questo caso prende le ultime 3 e le permuta tra le varie coppie di sequenze. \n",
    "\n",
    "__L'upper bound della soluzione ottimale è pari a: 1659__\n",
    "\n",
    "\n",
    "# Lavorando su una matrice: 5 x 50 (50 macchine e 5 jobs): \n",
    "- GA: makespan = 2843 (100 iterazioni, prob. di mutazione: 0.01, crossover pari a 1/10)\n",
    "- Neh: makespan = __2724__ (abbiamo più combinazioni con 2724), un grande risultato dal momento che l'upper bound è esattamente 2724. La sequenza è pari a (ne mostro solo una delle varie): \n",
    "[30, 49, 40, 47, 39, 43, 48, 41, 42, 38, 37, 16, 44, 33, 31, 25, 26, 17, 32, 27, 45, 34, 36, 9, 46, 2, 24, 22, 21, 23, 20, 12, 0, 5, 10, 3, 11, 1, 4, 28, 7, 29, 13, 8, 14, 6, 15, 19, 18, 35]\n",
    "- Ga + Neh: per la prima volta si nota un leggero peggioramento ottenendo una soluzione di makespan pari a 2729, quindi in questo caso è meglio la semplice implementazione Neh. \n",
    "\n",
    "__L'upper bound della soluzione ottimale è pari a: 2724__"
   ]
  },
  {
   "cell_type": "markdown",
   "metadata": {},
   "source": [
    "# Confrontiamo il GA con la libreria \"pyeasega\": "
   ]
  },
  {
   "cell_type": "code",
   "execution_count": 1549,
   "metadata": {},
   "outputs": [],
   "source": [
    "import random\n",
    "from pyeasyga import pyeasyga\n",
    "\n",
    "\n",
    "\n",
    "data=list(range(df.shape[1]))\n",
    "\n",
    "\n",
    "ga = pyeasyga.GeneticAlgorithm(data,\n",
    "                            population_size=200,\n",
    "                            generations=100,\n",
    "                            crossover_probability=0.8,\n",
    "                            mutation_probability=0.1,\n",
    "                            elitism=True,\n",
    "                            maximise_fitness=True)\n",
    "\n",
    "\n",
    "def create_individual(data):\n",
    "    individual = data[:]\n",
    "    random.shuffle(individual)\n",
    "    return individual\n",
    "\n",
    "ga.create_individual = create_individual\n",
    "\n",
    "\n",
    "def crossover(parent_1, parent_2):\n",
    "    crossover_index = random.randrange(1, len(parent_1))\n",
    "    child_1a = parent_1[:crossover_index]\n",
    "    child_1b = [i for i in parent_2 if i not in child_1a]\n",
    "    child_1 = child_1a + child_1b\n",
    "\n",
    "    child_2a = parent_2[crossover_index:]\n",
    "    child_2b = [i for i in parent_1 if i not in child_2a]\n",
    "    child_2 = child_2a + child_2b\n",
    "    \n",
    "    return child_1, child_2\n",
    "\n",
    "ga.crossover_function = crossover\n",
    "\n",
    "# define and set the GA's mutation operation\n",
    "def mutate(individual):\n",
    "    mutate_index1 = random.randrange(len(individual))\n",
    "    mutate_index2 = random.randrange(len(individual))\n",
    "    individual[mutate_index1], individual[mutate_index2] = individual[mutate_index2], individual[mutate_index1]\n",
    "\n",
    "ga.mutate_function = mutate\n",
    "\n",
    "def selection(population):\n",
    "    #print(population)\n",
    "    \n",
    "    return random.choice(population)\n",
    "\n",
    "ga.selection_function = selection\n",
    "\n",
    "# define a fitness function\n",
    "def fitness (individual, data):\n",
    "    fitness=0\n",
    "    v= makespan2(df,range(0,20),np.array(individual, dtype=\"int32\"))\n",
    "    fitness+= 1/v\n",
    "    return fitness\n",
    "ga.fitness_function = fitness    "
   ]
  },
  {
   "cell_type": "code",
   "execution_count": 1550,
   "metadata": {},
   "outputs": [],
   "source": [
    "ga.run()"
   ]
  },
  {
   "cell_type": "code",
   "execution_count": 1551,
   "metadata": {},
   "outputs": [
    {
     "data": {
      "text/plain": [
       "(0.0007593014426727411,\n",
       " [14, 5, 18, 7, 15, 16, 10, 12, 2, 8, 17, 4, 0, 13, 11, 1, 3, 9, 6, 19])"
      ]
     },
     "execution_count": 1551,
     "metadata": {},
     "output_type": "execute_result"
    }
   ],
   "source": [
    "ga.best_individual()"
   ]
  },
  {
   "cell_type": "code",
   "execution_count": null,
   "metadata": {},
   "outputs": [],
   "source": [
    "[11,23,48,40,20,15,1,26,38,19,42,12,31,13,7,6,34,33,17,29,37,5,14,30,18,35,41,47,28,32,9,16,39,3,36,45,10,43,46,22,24,0,2,4,21,44,8,25,27,49]"
   ]
  },
  {
   "cell_type": "code",
   "execution_count": 1552,
   "metadata": {
    "scrolled": false
   },
   "outputs": [
    {
     "data": {
      "text/plain": [
       "1317"
      ]
     },
     "execution_count": 1552,
     "metadata": {},
     "output_type": "execute_result"
    }
   ],
   "source": [
    "makespan2(df, range(0,20),[14, 5, 18, 7, 15, 16, 10, 12, 2, 8, 17, 4, 0, 13, 11, 1, 3, 9, 6, 19])"
   ]
  },
  {
   "cell_type": "markdown",
   "metadata": {},
   "source": [
    "# GA vs GA library: \n",
    "• 200 iterazioni con probabilità di mutazione pari a 0.1: \n",
    "# Lavorando su una matrice: 5 x 50 (50 macchine e 5 jobs)\n",
    "- GA: __2928__\n",
    "- GA library: __2774__, sequenza: [16,4,25,41,36,35,39,40,26,38,46,24,17,31,45,2,34,44,5,3,11,14,30,27,28,48,20,37,1,32,8,23,49,6,12,33,13,43,19,7,29,42,9,47, 18,21,22,0,10,15]\n",
    "- GA + Neh: __2729__, sequenza:[30,49,40,45,39,42,41,33,44,48,43,38,37,31,25,23,16,17,36,27,29,21,24,28,26,46,32,22,47,20,9,5,2,12,1,4,7,13,0,3,6,10,14,11,8,18,15,19,35,34]\n",
    "\n",
    "La libreria lavora meglio rispetto al GA implementato da me, ma GA + Neh, raggiunge risultati migliori del pacchetto. \n",
    "\n",
    "# Lavorando su una matrice: 20 x 50 (20 macchine e 50 jobs)\n",
    "- GA: makespan = 4680\n",
    "- GA library: 4410, sequenza: [11,23,48,40,20,15,1,26,38,19,42,12,31,13,7,6,34,33,17,29,37,5,14,30,18,35,41,47,28,32,9,16,39,3,36,45,10,43,46,22,24,0,2,4,21,44,8,25,27,49]\n",
    "- GA + Neh: 4053, sequenza: \n",
    "[19,30,14,5,6,23,44,9,41,37,42,45,32,38,4,27,33,28,10,26,0,36,39,21,16,13,34,29,3,20,17,7,15,46,31,1,22,35,18,25,43,12,49,48,40,11,8,47,24,2]\n",
    "\n",
    "\n",
    "# Lavorando su una matrice: 5 x 20 (5 macchine e 20 jobs)\n",
    "- GA: makespan = 1355\n",
    "- GA library: 1317, con una sequenza: [14, 5, 18, 7, 15, 16, 10, 12, 2, 8, 17, 4, 0, 13, 11, 1, 3, 9, 6, 19]\n",
    "- GA + Neh: 1297, con una sequenza: [16,10,8,14,15,5,13,7,2,3,1,0,4,17,9,6,11,18,12,19] (varie combinazioni)"
   ]
  },
  {
   "cell_type": "markdown",
   "metadata": {},
   "source": [
    "# _Conclusioni:_"
   ]
  },
  {
   "cell_type": "markdown",
   "metadata": {},
   "source": [
    "Dopo aver confrontato i vari algoritimi, sono giunto a varie conclusioni: \n",
    "In primo luogo, il GA implementato da me non ottiene grandi risultati (soprattutto se messo a confronto con la libreria pyeasega), i risultati si avvicinano all'upper bound (in certi casi) ma non riesce ad essere così ottimale. L'algoritmo Neh di base produce dei risultati migliori sia della libreria sia dell'algoritmo implementato da me. Alla fine ho deciso di implementare l'algoritmo genetico con il Neh in modo tale da avere un buon punto di partenza (anzichè avere delle combinazioni casuali). Questo ha fatto si che i risultati ottenuti sono notevolemente migliorati, anzi nel caso di una matrice di 5 macchine e 50 jobs si riesce a raggiungere esattamente l'upper bound della soluzione ottimale. \n",
    "Generalmente ci avviciniamo all'upper bound senza riuscire a essere all'interno dell'intervallo della soluzione ottimale. In altre parole, la libreria lavora leggermente meglio dell'algoritmo implementato, ma se lo confrontiamo con Ga + Neh, i risultati sono meno efficienti. Quindi posso ritenermi soddisfatto nell'aver costruito questa funzione più complessa. "
   ]
  },
  {
   "cell_type": "code",
   "execution_count": null,
   "metadata": {},
   "outputs": [],
   "source": []
  }
 ],
 "metadata": {
  "kernelspec": {
   "display_name": "Python 3",
   "language": "python",
   "name": "python3"
  },
  "language_info": {
   "codemirror_mode": {
    "name": "ipython",
    "version": 3
   },
   "file_extension": ".py",
   "mimetype": "text/x-python",
   "name": "python",
   "nbconvert_exporter": "python",
   "pygments_lexer": "ipython3",
   "version": "3.7.3"
  }
 },
 "nbformat": 4,
 "nbformat_minor": 2
}
